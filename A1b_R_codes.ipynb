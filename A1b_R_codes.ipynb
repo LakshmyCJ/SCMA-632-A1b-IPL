{
  "nbformat": 4,
  "nbformat_minor": 0,
  "metadata": {
    "colab": {
      "provenance": []
    },
    "kernelspec": {
      "name": "python3",
      "display_name": "Python 3"
    },
    "language_info": {
      "name": "python"
    }
  },
  "cells": [
    {
      "cell_type": "code",
      "execution_count": 1,
      "metadata": {
        "id": "hRK8PIEUMg10"
      },
      "outputs": [],
      "source": [
        "%load_ext rpy2.ipython"
      ]
    },
    {
      "cell_type": "code",
      "source": [
        "%%R\n",
        "library(dplyr)"
      ],
      "metadata": {
        "colab": {
          "base_uri": "https://localhost:8080/"
        },
        "id": "-WtNHrmYOhOj",
        "outputId": "c74ea102-7e4e-4c6b-d099-6dd45b7fb192",
        "collapsed": true
      },
      "execution_count": 2,
      "outputs": [
        {
          "output_type": "stream",
          "name": "stderr",
          "text": [
            "WARNING:rpy2.rinterface_lib.callbacks:R[write to console]: \n",
            "Attaching package: ‘dplyr’\n",
            "\n",
            "\n",
            "WARNING:rpy2.rinterface_lib.callbacks:R[write to console]: The following objects are masked from ‘package:stats’:\n",
            "\n",
            "    filter, lag\n",
            "\n",
            "\n",
            "WARNING:rpy2.rinterface_lib.callbacks:R[write to console]: The following objects are masked from ‘package:base’:\n",
            "\n",
            "    intersect, setdiff, setequal, union\n",
            "\n",
            "\n"
          ]
        }
      ]
    },
    {
      "cell_type": "code",
      "source": [
        "%%R\n",
        "df=read.csv(\"/content/IPL_ball_by_ball_updated till 2024 (1).csv\")\n",
        "head(df)\n"
      ],
      "metadata": {
        "colab": {
          "base_uri": "https://localhost:8080/"
        },
        "id": "Dbz4Am_FNCXI",
        "outputId": "d2bdd5b3-3d28-468b-99b4-93b96e8c259b"
      },
      "execution_count": 26,
      "outputs": [
        {
          "output_type": "stream",
          "name": "stdout",
          "text": [
            "  Match.id       Date  Season          Batting.team                Bowling.team\n",
            "1   335982 18-04-2008 2007/08 Kolkata Knight Riders Royal Challengers Bangalore\n",
            "2   335982 18-04-2008 2007/08 Kolkata Knight Riders Royal Challengers Bangalore\n",
            "3   335982 18-04-2008 2007/08 Kolkata Knight Riders Royal Challengers Bangalore\n",
            "4   335982 18-04-2008 2007/08 Kolkata Knight Riders Royal Challengers Bangalore\n",
            "5   335982 18-04-2008 2007/08 Kolkata Knight Riders Royal Challengers Bangalore\n",
            "6   335982 18-04-2008 2007/08 Kolkata Knight Riders Royal Challengers Bangalore\n",
            "  Innings.No Ball.No  Bowler     Striker Non.Striker runs_scored extras\n",
            "1          1     0.1 P Kumar  SC Ganguly BB McCullum           0      1\n",
            "2          1     0.2 P Kumar BB McCullum  SC Ganguly           0      0\n",
            "3          1     0.2 P Kumar BB McCullum  SC Ganguly           0      1\n",
            "4          1     0.3 P Kumar BB McCullum  SC Ganguly           0      0\n",
            "5          1     0.4 P Kumar BB McCullum  SC Ganguly           0      0\n",
            "6          1     0.5 P Kumar BB McCullum  SC Ganguly           0      0\n",
            "  type.of.extras score score.wicket wicket_confirmation wicket_type\n",
            "1        legbyes     1          1/0                   0            \n",
            "2                    1          1/0                   0            \n",
            "3          wides     2          2/0                   0            \n",
            "4                    2          2/0                   0            \n",
            "5                    2          2/0                   0            \n",
            "6                    2          2/0                   0            \n",
            "  fielders_involved Player.Out\n",
            "1                             \n",
            "2                             \n",
            "3                             \n",
            "4                             \n",
            "5                             \n",
            "6                             \n"
          ]
        }
      ]
    },
    {
      "cell_type": "code",
      "source": [
        "%%R\n",
        "tail(df)\n",
        "#names(df)"
      ],
      "metadata": {
        "colab": {
          "base_uri": "https://localhost:8080/"
        },
        "id": "kqNEkbIeTAqA",
        "outputId": "6c469244-0cc2-4123-cc1e-b6925f8e367a"
      },
      "execution_count": 27,
      "outputs": [
        {
          "output_type": "stream",
          "name": "stdout",
          "text": [
            "       Match.id       Date Season Batting.team        Bowling.team Innings.No\n",
            "255754  1426287 01-05-2024   2024 Punjab Kings Chennai Super Kings          2\n",
            "255755  1426287 01-05-2024   2024 Punjab Kings Chennai Super Kings          2\n",
            "255756  1426287 01-05-2024   2024 Punjab Kings Chennai Super Kings          2\n",
            "255757  1426287 01-05-2024   2024 Punjab Kings Chennai Super Kings          2\n",
            "255758  1426287 01-05-2024   2024 Punjab Kings Chennai Super Kings          2\n",
            "255759  1426287 01-05-2024   2024 Punjab Kings Chennai Super Kings          2\n",
            "       Ball.No     Bowler        Striker    Non.Striker runs_scored extras\n",
            "255754    17.0 RJ Gleeson      SM Curran Shashank Singh           0      1\n",
            "255755    17.1 RJ Gleeson      SM Curran Shashank Singh           0      0\n",
            "255756    17.2 RJ Gleeson      SM Curran Shashank Singh           4      0\n",
            "255757    17.3 RJ Gleeson      SM Curran Shashank Singh           0      0\n",
            "255758    17.4 RJ Gleeson      SM Curran Shashank Singh           0      1\n",
            "255759    17.5 RJ Gleeson Shashank Singh      SM Curran           2      0\n",
            "       type.of.extras score score.wicket wicket_confirmation wicket_type\n",
            "255754        noballs   156        156/3                   0            \n",
            "255755                  156        156/3                   0            \n",
            "255756                  160        160/3                   0            \n",
            "255757                  160        160/3                   0            \n",
            "255758        legbyes   161        161/3                   0            \n",
            "255759                  163        163/3                   0            \n",
            "       fielders_involved Player.Out\n",
            "255754                             \n",
            "255755                             \n",
            "255756                             \n",
            "255757                             \n",
            "255758                             \n",
            "255759                             \n"
          ]
        }
      ]
    },
    {
      "cell_type": "markdown",
      "source": [
        "# Arrange the data IPL round-wise and batsman, ball, runs, and wickets per player per match."
      ],
      "metadata": {
        "id": "GM1FIfY1Ocx_"
      }
    },
    {
      "cell_type": "code",
      "source": [
        "%%R\n",
        "#arrange roundwise\n",
        "df_roundwise=df %>%\n",
        "  arrange(Season,`Match.id`)  # Assuming 'Season' and 'Match.id' identify rounds\n",
        "head(df)"
      ],
      "metadata": {
        "colab": {
          "base_uri": "https://localhost:8080/"
        },
        "id": "oIKQw7l4NQnA",
        "outputId": "61b5ca0f-faef-48fb-f013-2668fad642d0"
      },
      "execution_count": 18,
      "outputs": [
        {
          "output_type": "stream",
          "name": "stdout",
          "text": [
            "  Match.id       Date  Season          Batting.team                Bowling.team\n",
            "1   335982 18-04-2008 2007/08 Kolkata Knight Riders Royal Challengers Bangalore\n",
            "2   335982 18-04-2008 2007/08 Kolkata Knight Riders Royal Challengers Bangalore\n",
            "3   335982 18-04-2008 2007/08 Kolkata Knight Riders Royal Challengers Bangalore\n",
            "4   335982 18-04-2008 2007/08 Kolkata Knight Riders Royal Challengers Bangalore\n",
            "5   335982 18-04-2008 2007/08 Kolkata Knight Riders Royal Challengers Bangalore\n",
            "6   335982 18-04-2008 2007/08 Kolkata Knight Riders Royal Challengers Bangalore\n",
            "  Innings.No Ball.No  Bowler     Striker Non.Striker runs_scored extras\n",
            "1          1     0.1 P Kumar  SC Ganguly BB McCullum           0      1\n",
            "2          1     0.2 P Kumar BB McCullum  SC Ganguly           0      0\n",
            "3          1     0.2 P Kumar BB McCullum  SC Ganguly           0      1\n",
            "4          1     0.3 P Kumar BB McCullum  SC Ganguly           0      0\n",
            "5          1     0.4 P Kumar BB McCullum  SC Ganguly           0      0\n",
            "6          1     0.5 P Kumar BB McCullum  SC Ganguly           0      0\n",
            "  type.of.extras score score.wicket wicket_confirmation wicket_type\n",
            "1        legbyes     1          1/0                   0            \n",
            "2                    1          1/0                   0            \n",
            "3          wides     2          2/0                   0            \n",
            "4                    2          2/0                   0            \n",
            "5                    2          2/0                   0            \n",
            "6                    2          2/0                   0            \n",
            "  fielders_involved Player.Out\n",
            "1                             \n",
            "2                             \n",
            "3                             \n",
            "4                             \n",
            "5                             \n",
            "6                             \n"
          ]
        }
      ]
    },
    {
      "cell_type": "code",
      "source": [
        "%%R\n",
        "#Arrange the data for each batsman\n",
        "batsman_data=df%>%\n",
        "  group_by(Match.id, Date,Striker) %>%\n",
        "  summarise(\n",
        "    Total_Balls_Faced =n(), #sum all balls faced in each group\n",
        "    Total_Runs_Scored=sum(runs_scored),\n",
        "    .groups='drop' #drop the group_by\n",
        "  )\n",
        "str(batsman_data)"
      ],
      "metadata": {
        "colab": {
          "base_uri": "https://localhost:8080/"
        },
        "id": "WZ_V41TXYR1g",
        "outputId": "49cafa95-eea4-4c7a-abd1-bd34f2c0af3a"
      },
      "execution_count": 18,
      "outputs": [
        {
          "output_type": "stream",
          "name": "stdout",
          "text": [
            "tibble [16,149 × 5] (S3: tbl_df/tbl/data.frame)\n",
            " $ Match.id         : int [1:16149] 335982 335982 335982 335982 335982 335982 335982 335982 335982 335982 ...\n",
            " $ Date             : chr [1:16149] \"18-04-2008\" \"18-04-2008\" \"18-04-2008\" \"18-04-2008\" ...\n",
            " $ Striker          : chr [1:16149] \"AA Noffke\" \"B Akhil\" \"BB McCullum\" \"CL White\" ...\n",
            " $ Total_Balls_Faced: int [1:16149] 12 2 77 10 12 7 11 3 17 3 ...\n",
            " $ Total_Runs_Scored: int [1:16149] 9 0 158 6 12 8 7 5 18 2 ...\n"
          ]
        }
      ]
    },
    {
      "cell_type": "code",
      "source": [
        "%%R\n",
        "#arrange the data for each bowler\n",
        "bowler_data=df%>%\n",
        "  filter(wicket_confirmation==1) %>%\n",
        "  group_by(Match.id, Date,Bowler) %>%\n",
        "  summarise(\n",
        "    Total_Wickets_Taken=n(),\n",
        "    .groups='drop'\n",
        "  )\n",
        "str(bowler_data)"
      ],
      "metadata": {
        "colab": {
          "base_uri": "https://localhost:8080/"
        },
        "id": "q1XI-MB_ZiGR",
        "outputId": "d6ccdfde-93ed-473c-9d2a-6ca17949be6a"
      },
      "execution_count": 19,
      "outputs": [
        {
          "output_type": "stream",
          "name": "stdout",
          "text": [
            "tibble [7,612 × 4] (S3: tbl_df/tbl/data.frame)\n",
            " $ Match.id           : int [1:7612] 335982 335982 335982 335982 335982 335982 335982 335982 335983 335983 ...\n",
            " $ Date               : chr [1:7612] \"18-04-2008\" \"18-04-2008\" \"18-04-2008\" \"18-04-2008\" ...\n",
            " $ Bowler             : chr [1:7612] \"AA Noffke\" \"AB Agarkar\" \"AB Dinda\" \"I Sharma\" ...\n",
            " $ Total_Wickets_Taken: int [1:7612] 1 3 2 1 1 1 3 1 1 2 ...\n"
          ]
        }
      ]
    },
    {
      "cell_type": "markdown",
      "source": [
        "# Indicate the top three run-getters and top three wicket-takers in each IPL round."
      ],
      "metadata": {
        "id": "pKYGjGTZbpgY"
      }
    },
    {
      "cell_type": "code",
      "source": [
        "%%R\n",
        "# Identify top three run-getters in each IPL season\n",
        "top_run_getters = df %>%\n",
        "  group_by(Season, Striker) %>%  # Group by season and player\n",
        "  summarise(Total_Runs = sum(runs_scored)) %>%  # Calculate total runs scored by each player in each season\n",
        "  arrange(Season, desc(Total_Runs)) %>%  # Sort by season and descending total runs\n",
        "  group_by(Season) %>%  # Regroup by season to find top 3 in each season\n",
        "  slice_head(n = 3) %>%  # Select top 3 players in each season\n",
        "  ungroup()  # Remove grouping variables\n",
        "\n",
        "# Print the top three run-getters for each season\n",
        "print(\"Top Three Run Getters in Each IPL Season:\")\n",
        "print(top_run_getters)"
      ],
      "metadata": {
        "colab": {
          "base_uri": "https://localhost:8080/"
        },
        "id": "2MvN-kM1UbT9",
        "outputId": "fd27147c-2d23-487f-8f56-d30b84671d9d"
      },
      "execution_count": 23,
      "outputs": [
        {
          "output_type": "stream",
          "name": "stdout",
          "text": [
            "`summarise()` has grouped output by 'Season'. You can override using the\n",
            "`.groups` argument.\n",
            "[1] \"Top Three Run Getters in Each IPL Season:\"\n",
            "# A tibble: 51 × 3\n",
            "   Season  Striker        Total_Runs\n",
            "   <chr>   <chr>               <int>\n",
            " 1 2007/08 SE Marsh              616\n",
            " 2 2007/08 G Gambhir             534\n",
            " 3 2007/08 ST Jayasuriya         514\n",
            " 4 2009    ML Hayden             572\n",
            " 5 2009    AC Gilchrist          495\n",
            " 6 2009    AB de Villiers        465\n",
            " 7 2009/10 SR Tendulkar          618\n",
            " 8 2009/10 JH Kallis             572\n",
            " 9 2009/10 SK Raina              528\n",
            "10 2011    CH Gayle              608\n",
            "# ℹ 41 more rows\n",
            "# ℹ Use `print(n = ...)` to see more rows\n"
          ]
        }
      ]
    },
    {
      "cell_type": "code",
      "source": [
        "%%R\n",
        "# Identify top 3 wicket-takers in each IPL season\n",
        "top_wicket_takers= df %>%\n",
        "  filter(wicket_confirmation == 1) %>%  # Filter only confirmed wickets\n",
        "  group_by(Season, Bowler) %>%  # Group by season and bowler\n",
        "  summarise(Total_Wickets_Taken = n()) %>%  # Count the number of wickets taken by each bowler in each season\n",
        "  arrange(Season, desc(Total_Wickets_Taken)) %>%  # Sort by season and descending total wickets taken\n",
        "  group_by(Season) %>%  # Regroup by season to find top 3 in each season\n",
        "  slice_head(n = 3) %>%  # Select top 3 bowlers in each season\n",
        "  ungroup()  # Remove grouping variables\n",
        "\n",
        "# Print the top 3 wicket-takers for each season\n",
        "print(\"Top Three Wicket Takers in Each IPL Season:\")\n",
        "print(top_wicket_takers)"
      ],
      "metadata": {
        "colab": {
          "base_uri": "https://localhost:8080/"
        },
        "id": "f01-IbE9c4-6",
        "outputId": "6c545c8b-3570-4a29-eab6-28f2b75befeb"
      },
      "execution_count": 24,
      "outputs": [
        {
          "output_type": "stream",
          "name": "stdout",
          "text": [
            "`summarise()` has grouped output by 'Season'. You can override using the\n",
            "`.groups` argument.\n",
            "[1] \"Top Three Wicket Takers in Each IPL Season:\"\n",
            "# A tibble: 51 × 3\n",
            "   Season  Bowler          Total_Wickets_Taken\n",
            "   <chr>   <chr>                         <int>\n",
            " 1 2007/08 Sohail Tanvir                    24\n",
            " 2 2007/08 IK Pathan                        20\n",
            " 3 2007/08 JA Morkel                        20\n",
            " 4 2009    RP Singh                         26\n",
            " 5 2009    A Kumble                         22\n",
            " 6 2009    A Nehra                          22\n",
            " 7 2009/10 PP Ojha                          22\n",
            " 8 2009/10 A Mishra                         20\n",
            " 9 2009/10 Harbhajan Singh                  20\n",
            "10 2011    SL Malinga                       30\n",
            "# ℹ 41 more rows\n",
            "# ℹ Use `print(n = ...)` to see more rows\n"
          ]
        }
      ]
    },
    {
      "cell_type": "markdown",
      "source": [
        "#Fitting the most appropriate distribution for runs scored and wickets taken by the top three batsmen and bowlers in the last three IPL tournaments."
      ],
      "metadata": {
        "id": "dV4c7dshVakD"
      }
    },
    {
      "cell_type": "code",
      "source": [
        "%%R\n",
        "install.packages(\"MASS\")\n",
        "library(MASS)\n",
        "# Fit distributions for runs scored by top batsmen\n",
        "#normal distribution fitting\n",
        "runs_data= top_run_getters %>%\n",
        "  filter(Striker %in% top_run_getters) %>%\n",
        "  select(Total_Runs)\n",
        "\n",
        "# Fit normal distribution\n",
        "runs_fit= fitdistr(runs_data$Runs, \"normal\")\n",
        "\n",
        "# Print parameters of the fitted distribution\n",
        "print(\"Parameters of Normal Distribution for Runs Scored:\")\n",
        "print(runs_fit$estimate)\n"
      ],
      "metadata": {
        "colab": {
          "base_uri": "https://localhost:8080/"
        },
        "collapsed": true,
        "id": "bmoM7NO4VWtO",
        "outputId": "a160b7e4-22f6-4277-eb78-f1a1e9d1d0f9"
      },
      "execution_count": 32,
      "outputs": [
        {
          "output_type": "stream",
          "name": "stderr",
          "text": [
            "WARNING:rpy2.rinterface_lib.callbacks:R[write to console]: Installing package into ‘/usr/local/lib/R/site-library’\n",
            "(as ‘lib’ is unspecified)\n",
            "\n",
            "WARNING:rpy2.rinterface_lib.callbacks:R[write to console]: trying URL 'https://cran.rstudio.com/src/contrib/MASS_7.3-61.tar.gz'\n",
            "\n",
            "WARNING:rpy2.rinterface_lib.callbacks:R[write to console]: Content type 'application/x-gzip'\n",
            "WARNING:rpy2.rinterface_lib.callbacks:R[write to console]:  length 509902 bytes (497 KB)\n",
            "\n",
            "WARNING:rpy2.rinterface_lib.callbacks:R[write to console]: =\n",
            "WARNING:rpy2.rinterface_lib.callbacks:R[write to console]: =\n",
            "WARNING:rpy2.rinterface_lib.callbacks:R[write to console]: =\n",
            "WARNING:rpy2.rinterface_lib.callbacks:R[write to console]: =\n",
            "WARNING:rpy2.rinterface_lib.callbacks:R[write to console]: =\n",
            "WARNING:rpy2.rinterface_lib.callbacks:R[write to console]: =\n",
            "WARNING:rpy2.rinterface_lib.callbacks:R[write to console]: =\n",
            "WARNING:rpy2.rinterface_lib.callbacks:R[write to console]: =\n",
            "WARNING:rpy2.rinterface_lib.callbacks:R[write to console]: =\n",
            "WARNING:rpy2.rinterface_lib.callbacks:R[write to console]: =\n",
            "WARNING:rpy2.rinterface_lib.callbacks:R[write to console]: =\n",
            "WARNING:rpy2.rinterface_lib.callbacks:R[write to console]: =\n",
            "WARNING:rpy2.rinterface_lib.callbacks:R[write to console]: =\n",
            "WARNING:rpy2.rinterface_lib.callbacks:R[write to console]: =\n",
            "WARNING:rpy2.rinterface_lib.callbacks:R[write to console]: =\n",
            "WARNING:rpy2.rinterface_lib.callbacks:R[write to console]: =\n",
            "WARNING:rpy2.rinterface_lib.callbacks:R[write to console]: =\n",
            "WARNING:rpy2.rinterface_lib.callbacks:R[write to console]: =\n",
            "WARNING:rpy2.rinterface_lib.callbacks:R[write to console]: =\n",
            "WARNING:rpy2.rinterface_lib.callbacks:R[write to console]: =\n",
            "WARNING:rpy2.rinterface_lib.callbacks:R[write to console]: =\n",
            "WARNING:rpy2.rinterface_lib.callbacks:R[write to console]: =\n",
            "WARNING:rpy2.rinterface_lib.callbacks:R[write to console]: =\n",
            "WARNING:rpy2.rinterface_lib.callbacks:R[write to console]: =\n",
            "WARNING:rpy2.rinterface_lib.callbacks:R[write to console]: =\n",
            "WARNING:rpy2.rinterface_lib.callbacks:R[write to console]: =\n",
            "WARNING:rpy2.rinterface_lib.callbacks:R[write to console]: =\n",
            "WARNING:rpy2.rinterface_lib.callbacks:R[write to console]: =\n",
            "WARNING:rpy2.rinterface_lib.callbacks:R[write to console]: =\n",
            "WARNING:rpy2.rinterface_lib.callbacks:R[write to console]: =\n",
            "WARNING:rpy2.rinterface_lib.callbacks:R[write to console]: =\n",
            "WARNING:rpy2.rinterface_lib.callbacks:R[write to console]: =\n",
            "WARNING:rpy2.rinterface_lib.callbacks:R[write to console]: =\n",
            "WARNING:rpy2.rinterface_lib.callbacks:R[write to console]: =\n",
            "WARNING:rpy2.rinterface_lib.callbacks:R[write to console]: =\n",
            "WARNING:rpy2.rinterface_lib.callbacks:R[write to console]: =\n",
            "WARNING:rpy2.rinterface_lib.callbacks:R[write to console]: =\n",
            "WARNING:rpy2.rinterface_lib.callbacks:R[write to console]: =\n",
            "WARNING:rpy2.rinterface_lib.callbacks:R[write to console]: =\n",
            "WARNING:rpy2.rinterface_lib.callbacks:R[write to console]: =\n",
            "WARNING:rpy2.rinterface_lib.callbacks:R[write to console]: =\n",
            "WARNING:rpy2.rinterface_lib.callbacks:R[write to console]: =\n",
            "WARNING:rpy2.rinterface_lib.callbacks:R[write to console]: =\n",
            "WARNING:rpy2.rinterface_lib.callbacks:R[write to console]: =\n",
            "WARNING:rpy2.rinterface_lib.callbacks:R[write to console]: =\n",
            "WARNING:rpy2.rinterface_lib.callbacks:R[write to console]: =\n",
            "WARNING:rpy2.rinterface_lib.callbacks:R[write to console]: =\n",
            "WARNING:rpy2.rinterface_lib.callbacks:R[write to console]: =\n",
            "WARNING:rpy2.rinterface_lib.callbacks:R[write to console]: =\n",
            "WARNING:rpy2.rinterface_lib.callbacks:R[write to console]: =\n",
            "WARNING:rpy2.rinterface_lib.callbacks:R[write to console]: \n",
            "\n",
            "WARNING:rpy2.rinterface_lib.callbacks:R[write to console]: downloaded 497 KB\n",
            "\n",
            "\n",
            "WARNING:rpy2.rinterface_lib.callbacks:R[write to console]: \n",
            "\n",
            "WARNING:rpy2.rinterface_lib.callbacks:R[write to console]: \n",
            "WARNING:rpy2.rinterface_lib.callbacks:R[write to console]: The downloaded source packages are in\n",
            "\t‘/tmp/RtmpwOBTjE/downloaded_packages’\n",
            "WARNING:rpy2.rinterface_lib.callbacks:R[write to console]: \n",
            "WARNING:rpy2.rinterface_lib.callbacks:R[write to console]: \n",
            "\n",
            "WARNING:rpy2.rinterface_lib.callbacks:R[write to console]: Error in select(., Total_Runs) : unused argument (Total_Runs)\n",
            "\n"
          ]
        },
        {
          "output_type": "stream",
          "name": "stdout",
          "text": [
            "\n",
            "Error in select(., Total_Runs) : unused argument (Total_Runs)\n"
          ]
        }
      ]
    },
    {
      "cell_type": "code",
      "source": [
        "%%R\n",
        "# Filter data for top wicket-takers\n",
        "wickets_data <- top_wicket_takers %>%\n",
        "  select(Player, Total_Wickets_Taken)\n",
        "\n",
        "# Fit Poisson distribution\n",
        "wickets_fit <- fitdistr(wickets_data$Total_Wickets_Taken, \"poisson\")\n",
        "\n",
        "# Print parameters of the fitted distribution\n",
        "cat(\"\\nParameters of Poisson Distribution for Wickets Taken:\\n\")\n",
        "print(wickets_fit$estimate)"
      ],
      "metadata": {
        "colab": {
          "base_uri": "https://localhost:8080/"
        },
        "collapsed": true,
        "id": "IsNQFnUsVWpu",
        "outputId": "b11f05c4-a166-4c66-84c4-5544e2906990"
      },
      "execution_count": 33,
      "outputs": [
        {
          "output_type": "stream",
          "name": "stderr",
          "text": [
            "WARNING:rpy2.rinterface_lib.callbacks:R[write to console]: Error in select(., Player, Total_Wickets_Taken) : \n",
            "  unused arguments (Player, Total_Wickets_Taken)\n",
            "\n"
          ]
        },
        {
          "output_type": "stream",
          "name": "stdout",
          "text": [
            "\n",
            "Error in select(., Player, Total_Wickets_Taken) : \n",
            "  unused arguments (Player, Total_Wickets_Taken)\n"
          ]
        }
      ]
    },
    {
      "cell_type": "code",
      "source": [
        "%%R\n",
        "install.packages(\"e1071\")\n",
        "library(dplyr)\n",
        "library(MASS)   # For fitdistr function\n",
        "library(e1071)  # For skewness and kurtosis functions\n",
        "\n",
        "# Filter data for runs scored by KL Rahul as striker\n",
        "kl_rahul_striker_runs=df%>%\n",
        "  filter(Striker == \"KL Rahul\")\n",
        "\n",
        "# Data visualization (optional)\n",
        "hist(kl_rahul_striker_runs$runs_scored, breaks = 10, freq = FALSE, main = \"Histogram of KL Rahul's Runs as Striker\")\n",
        "lines(density(kl_rahul_striker_runs$runs_scored), col = \"blue\")\n",
        "\n",
        "# Normality test\n",
        "shapiro_test <- shapiro.test(kl_rahul_striker_runs$runs_scored)\n",
        "cat(\"Shapiro-Wilk Normality Test:\\n\")\n",
        "print(shapiro_test)\n",
        "\n",
        "# Calculate skewness and kurtosis\n",
        "skew <- skewness(kl_rahul_striker_runs$runs_scored)\n",
        "kurt <- kurtosis(kl_rahul_striker_runs$runs_scored)\n",
        "cat(\"\\nSkewness:\", skew, \"\\n\")\n",
        "cat(\"Kurtosis:\", kurt, \"\\n\")\n",
        "\n",
        "# Fit normal distribution\n",
        "params <- fitdistr(kl_rahul_striker_runs$runs_scored, \"normal\")\n",
        "\n",
        "# Print parameters of the fitted distribution\n",
        "cat(\"\\nParameters of Normal Distribution for KL Rahul's Runs as Striker:\\n\")\n",
        "print(params$estimate)\n",
        "\n",
        "# Goodness-of-fit test (e.g., Kolmogorov-Smirnov test)\n",
        "ks_test <- ks.test(kl_rahul_striker_runs$runs_scored, \"pnorm\", mean=params$estimate[1], sd=params$estimate[2])\n",
        "cat(\"\\nKolmogorov-Smirnov Test for Normality:\\n\")\n",
        "print(ks_test)\n"
      ],
      "metadata": {
        "colab": {
          "base_uri": "https://localhost:8080/",
          "height": 1000
        },
        "collapsed": true,
        "id": "oCFLoPq-Yhum",
        "outputId": "3a4c8e32-b08c-4c87-b4a8-26c862e733f7"
      },
      "execution_count": 34,
      "outputs": [
        {
          "output_type": "stream",
          "name": "stderr",
          "text": [
            "WARNING:rpy2.rinterface_lib.callbacks:R[write to console]: Installing package into ‘/usr/local/lib/R/site-library’\n",
            "(as ‘lib’ is unspecified)\n",
            "\n",
            "WARNING:rpy2.rinterface_lib.callbacks:R[write to console]: also installing the dependency ‘proxy’\n",
            "\n",
            "\n",
            "WARNING:rpy2.rinterface_lib.callbacks:R[write to console]: trying URL 'https://cran.rstudio.com/src/contrib/proxy_0.4-27.tar.gz'\n",
            "\n",
            "WARNING:rpy2.rinterface_lib.callbacks:R[write to console]: Content type 'application/x-gzip'\n",
            "WARNING:rpy2.rinterface_lib.callbacks:R[write to console]:  length 74622 bytes (72 KB)\n",
            "\n",
            "WARNING:rpy2.rinterface_lib.callbacks:R[write to console]: =\n",
            "WARNING:rpy2.rinterface_lib.callbacks:R[write to console]: =\n",
            "WARNING:rpy2.rinterface_lib.callbacks:R[write to console]: =\n",
            "WARNING:rpy2.rinterface_lib.callbacks:R[write to console]: =\n",
            "WARNING:rpy2.rinterface_lib.callbacks:R[write to console]: =\n",
            "WARNING:rpy2.rinterface_lib.callbacks:R[write to console]: =\n",
            "WARNING:rpy2.rinterface_lib.callbacks:R[write to console]: =\n",
            "WARNING:rpy2.rinterface_lib.callbacks:R[write to console]: =\n",
            "WARNING:rpy2.rinterface_lib.callbacks:R[write to console]: =\n",
            "WARNING:rpy2.rinterface_lib.callbacks:R[write to console]: =\n",
            "WARNING:rpy2.rinterface_lib.callbacks:R[write to console]: =\n",
            "WARNING:rpy2.rinterface_lib.callbacks:R[write to console]: =\n",
            "WARNING:rpy2.rinterface_lib.callbacks:R[write to console]: =\n",
            "WARNING:rpy2.rinterface_lib.callbacks:R[write to console]: =\n",
            "WARNING:rpy2.rinterface_lib.callbacks:R[write to console]: =\n",
            "WARNING:rpy2.rinterface_lib.callbacks:R[write to console]: =\n",
            "WARNING:rpy2.rinterface_lib.callbacks:R[write to console]: =\n",
            "WARNING:rpy2.rinterface_lib.callbacks:R[write to console]: =\n",
            "WARNING:rpy2.rinterface_lib.callbacks:R[write to console]: =\n",
            "WARNING:rpy2.rinterface_lib.callbacks:R[write to console]: =\n",
            "WARNING:rpy2.rinterface_lib.callbacks:R[write to console]: =\n",
            "WARNING:rpy2.rinterface_lib.callbacks:R[write to console]: =\n",
            "WARNING:rpy2.rinterface_lib.callbacks:R[write to console]: =\n",
            "WARNING:rpy2.rinterface_lib.callbacks:R[write to console]: =\n",
            "WARNING:rpy2.rinterface_lib.callbacks:R[write to console]: =\n",
            "WARNING:rpy2.rinterface_lib.callbacks:R[write to console]: =\n",
            "WARNING:rpy2.rinterface_lib.callbacks:R[write to console]: =\n",
            "WARNING:rpy2.rinterface_lib.callbacks:R[write to console]: =\n",
            "WARNING:rpy2.rinterface_lib.callbacks:R[write to console]: =\n",
            "WARNING:rpy2.rinterface_lib.callbacks:R[write to console]: =\n",
            "WARNING:rpy2.rinterface_lib.callbacks:R[write to console]: =\n",
            "WARNING:rpy2.rinterface_lib.callbacks:R[write to console]: =\n",
            "WARNING:rpy2.rinterface_lib.callbacks:R[write to console]: =\n",
            "WARNING:rpy2.rinterface_lib.callbacks:R[write to console]: =\n",
            "WARNING:rpy2.rinterface_lib.callbacks:R[write to console]: =\n",
            "WARNING:rpy2.rinterface_lib.callbacks:R[write to console]: =\n",
            "WARNING:rpy2.rinterface_lib.callbacks:R[write to console]: =\n",
            "WARNING:rpy2.rinterface_lib.callbacks:R[write to console]: =\n",
            "WARNING:rpy2.rinterface_lib.callbacks:R[write to console]: =\n",
            "WARNING:rpy2.rinterface_lib.callbacks:R[write to console]: =\n",
            "WARNING:rpy2.rinterface_lib.callbacks:R[write to console]: =\n",
            "WARNING:rpy2.rinterface_lib.callbacks:R[write to console]: =\n",
            "WARNING:rpy2.rinterface_lib.callbacks:R[write to console]: =\n",
            "WARNING:rpy2.rinterface_lib.callbacks:R[write to console]: =\n",
            "WARNING:rpy2.rinterface_lib.callbacks:R[write to console]: =\n",
            "WARNING:rpy2.rinterface_lib.callbacks:R[write to console]: =\n",
            "WARNING:rpy2.rinterface_lib.callbacks:R[write to console]: =\n",
            "WARNING:rpy2.rinterface_lib.callbacks:R[write to console]: =\n",
            "WARNING:rpy2.rinterface_lib.callbacks:R[write to console]: =\n",
            "WARNING:rpy2.rinterface_lib.callbacks:R[write to console]: =\n",
            "WARNING:rpy2.rinterface_lib.callbacks:R[write to console]: \n",
            "\n",
            "WARNING:rpy2.rinterface_lib.callbacks:R[write to console]: downloaded 72 KB\n",
            "\n",
            "\n",
            "WARNING:rpy2.rinterface_lib.callbacks:R[write to console]: trying URL 'https://cran.rstudio.com/src/contrib/e1071_1.7-14.tar.gz'\n",
            "\n",
            "WARNING:rpy2.rinterface_lib.callbacks:R[write to console]: Content type 'application/x-gzip'\n",
            "WARNING:rpy2.rinterface_lib.callbacks:R[write to console]:  length 326383 bytes (318 KB)\n",
            "\n",
            "WARNING:rpy2.rinterface_lib.callbacks:R[write to console]: =\n",
            "WARNING:rpy2.rinterface_lib.callbacks:R[write to console]: =\n",
            "WARNING:rpy2.rinterface_lib.callbacks:R[write to console]: =\n",
            "WARNING:rpy2.rinterface_lib.callbacks:R[write to console]: =\n",
            "WARNING:rpy2.rinterface_lib.callbacks:R[write to console]: =\n",
            "WARNING:rpy2.rinterface_lib.callbacks:R[write to console]: =\n",
            "WARNING:rpy2.rinterface_lib.callbacks:R[write to console]: =\n",
            "WARNING:rpy2.rinterface_lib.callbacks:R[write to console]: =\n",
            "WARNING:rpy2.rinterface_lib.callbacks:R[write to console]: =\n",
            "WARNING:rpy2.rinterface_lib.callbacks:R[write to console]: =\n",
            "WARNING:rpy2.rinterface_lib.callbacks:R[write to console]: =\n",
            "WARNING:rpy2.rinterface_lib.callbacks:R[write to console]: =\n",
            "WARNING:rpy2.rinterface_lib.callbacks:R[write to console]: =\n",
            "WARNING:rpy2.rinterface_lib.callbacks:R[write to console]: =\n",
            "WARNING:rpy2.rinterface_lib.callbacks:R[write to console]: =\n",
            "WARNING:rpy2.rinterface_lib.callbacks:R[write to console]: =\n",
            "WARNING:rpy2.rinterface_lib.callbacks:R[write to console]: =\n",
            "WARNING:rpy2.rinterface_lib.callbacks:R[write to console]: =\n",
            "WARNING:rpy2.rinterface_lib.callbacks:R[write to console]: =\n",
            "WARNING:rpy2.rinterface_lib.callbacks:R[write to console]: =\n",
            "WARNING:rpy2.rinterface_lib.callbacks:R[write to console]: =\n",
            "WARNING:rpy2.rinterface_lib.callbacks:R[write to console]: =\n",
            "WARNING:rpy2.rinterface_lib.callbacks:R[write to console]: =\n",
            "WARNING:rpy2.rinterface_lib.callbacks:R[write to console]: =\n",
            "WARNING:rpy2.rinterface_lib.callbacks:R[write to console]: =\n",
            "WARNING:rpy2.rinterface_lib.callbacks:R[write to console]: =\n",
            "WARNING:rpy2.rinterface_lib.callbacks:R[write to console]: =\n",
            "WARNING:rpy2.rinterface_lib.callbacks:R[write to console]: =\n",
            "WARNING:rpy2.rinterface_lib.callbacks:R[write to console]: =\n",
            "WARNING:rpy2.rinterface_lib.callbacks:R[write to console]: =\n",
            "WARNING:rpy2.rinterface_lib.callbacks:R[write to console]: =\n",
            "WARNING:rpy2.rinterface_lib.callbacks:R[write to console]: =\n",
            "WARNING:rpy2.rinterface_lib.callbacks:R[write to console]: =\n",
            "WARNING:rpy2.rinterface_lib.callbacks:R[write to console]: =\n",
            "WARNING:rpy2.rinterface_lib.callbacks:R[write to console]: =\n",
            "WARNING:rpy2.rinterface_lib.callbacks:R[write to console]: =\n",
            "WARNING:rpy2.rinterface_lib.callbacks:R[write to console]: =\n",
            "WARNING:rpy2.rinterface_lib.callbacks:R[write to console]: =\n",
            "WARNING:rpy2.rinterface_lib.callbacks:R[write to console]: =\n",
            "WARNING:rpy2.rinterface_lib.callbacks:R[write to console]: =\n",
            "WARNING:rpy2.rinterface_lib.callbacks:R[write to console]: =\n",
            "WARNING:rpy2.rinterface_lib.callbacks:R[write to console]: =\n",
            "WARNING:rpy2.rinterface_lib.callbacks:R[write to console]: =\n",
            "WARNING:rpy2.rinterface_lib.callbacks:R[write to console]: =\n",
            "WARNING:rpy2.rinterface_lib.callbacks:R[write to console]: =\n",
            "WARNING:rpy2.rinterface_lib.callbacks:R[write to console]: =\n",
            "WARNING:rpy2.rinterface_lib.callbacks:R[write to console]: =\n",
            "WARNING:rpy2.rinterface_lib.callbacks:R[write to console]: =\n",
            "WARNING:rpy2.rinterface_lib.callbacks:R[write to console]: =\n",
            "WARNING:rpy2.rinterface_lib.callbacks:R[write to console]: =\n",
            "WARNING:rpy2.rinterface_lib.callbacks:R[write to console]: \n",
            "\n",
            "WARNING:rpy2.rinterface_lib.callbacks:R[write to console]: downloaded 318 KB\n",
            "\n",
            "\n",
            "WARNING:rpy2.rinterface_lib.callbacks:R[write to console]: \n",
            "\n",
            "WARNING:rpy2.rinterface_lib.callbacks:R[write to console]: \n",
            "WARNING:rpy2.rinterface_lib.callbacks:R[write to console]: The downloaded source packages are in\n",
            "\t‘/tmp/RtmpwOBTjE/downloaded_packages’\n",
            "WARNING:rpy2.rinterface_lib.callbacks:R[write to console]: \n",
            "WARNING:rpy2.rinterface_lib.callbacks:R[write to console]: \n",
            "\n"
          ]
        },
        {
          "output_type": "stream",
          "name": "stdout",
          "text": [
            "Shapiro-Wilk Normality Test:\n",
            "\n",
            "\tShapiro-Wilk normality test\n",
            "\n",
            "data:  kl_rahul_striker_runs$runs_scored\n",
            "W = 0.72957, p-value < 2.2e-16\n",
            "\n",
            "\n",
            "Skewness: 1.564706 \n",
            "Kurtosis: 1.558586 \n",
            "\n",
            "Parameters of Normal Distribution for KL Rahul's Runs as Striker:\n",
            "    mean       sd \n",
            "1.315789 1.631166 \n",
            "\n",
            "Kolmogorov-Smirnov Test for Normality:\n",
            "\n",
            "\tAsymptotic one-sample Kolmogorov-Smirnov test\n",
            "\n",
            "data:  kl_rahul_striker_runs$runs_scored\n",
            "D = 0.34207, p-value < 2.2e-16\n",
            "alternative hypothesis: two-sided\n",
            "\n"
          ]
        },
        {
          "output_type": "display_data",
          "data": {
            "image/png": "[encoded data removed]"
          },
          "metadata": {}
        }
      ]
    },
    {
      "cell_type": "code",
      "source": [
        "%%R\n",
        "library(readxl)\n",
        "salary=read_excel(\"/content/IPL SALARIES 2024 (1).xlsx\")\n",
        "head(salary)"
      ],
      "metadata": {
        "colab": {
          "base_uri": "https://localhost:8080/"
        },
        "id": "ZCuAahQ6gZ9v",
        "outputId": "76273124-e7e7-493e-8da6-67eaa4e01782"
      },
      "execution_count": 35,
      "outputs": [
        {
          "output_type": "stream",
          "name": "stdout",
          "text": [
            "# A tibble: 6 × 5\n",
            "  Player         Salary        Rs international iconic\n",
            "  <chr>          <chr>      <dbl>         <dbl> <lgl> \n",
            "1 Abhishek Porel 20 lakh       20             0 NA    \n",
            "2 Anrich Nortje  6.5 crore    650             1 NA    \n",
            "3 Axar Patel     9 crore      900             0 NA    \n",
            "4 David Warner   6.25 crore   625             1 NA    \n",
            "5 Ishant Sharma  50 lakh       50             0 NA    \n",
            "6 Kuldeep Yadav  2 crore      200             0 NA    \n"
          ]
        }
      ]
    },
    {
      "cell_type": "code",
      "source": [
        "%%R\n",
        "install.packages(\"stringdist\")\n",
        "install.packages(\"lubridate\")\n",
        "library(dplyr)\n",
        "library(stringdist)"
      ],
      "metadata": {
        "colab": {
          "base_uri": "https://localhost:8080/"
        },
        "collapsed": true,
        "id": "kZlS76ZCbEwD",
        "outputId": "26851919-a442-4df8-c73e-ea8c9e95548d"
      },
      "execution_count": 36,
      "outputs": [
        {
          "output_type": "stream",
          "name": "stderr",
          "text": [
            "WARNING:rpy2.rinterface_lib.callbacks:R[write to console]: Installing package into ‘/usr/local/lib/R/site-library’\n",
            "(as ‘lib’ is unspecified)\n",
            "\n",
            "WARNING:rpy2.rinterface_lib.callbacks:R[write to console]: trying URL 'https://cran.rstudio.com/src/contrib/stringdist_0.9.12.tar.gz'\n",
            "\n",
            "WARNING:rpy2.rinterface_lib.callbacks:R[write to console]: Content type 'application/x-gzip'\n",
            "WARNING:rpy2.rinterface_lib.callbacks:R[write to console]:  length 862306 bytes (842 KB)\n",
            "\n",
            "WARNING:rpy2.rinterface_lib.callbacks:R[write to console]: =\n",
            "WARNING:rpy2.rinterface_lib.callbacks:R[write to console]: =\n",
            "WARNING:rpy2.rinterface_lib.callbacks:R[write to console]: =\n",
            "WARNING:rpy2.rinterface_lib.callbacks:R[write to console]: =\n",
            "WARNING:rpy2.rinterface_lib.callbacks:R[write to console]: =\n",
            "WARNING:rpy2.rinterface_lib.callbacks:R[write to console]: =\n",
            "WARNING:rpy2.rinterface_lib.callbacks:R[write to console]: =\n",
            "WARNING:rpy2.rinterface_lib.callbacks:R[write to console]: =\n",
            "WARNING:rpy2.rinterface_lib.callbacks:R[write to console]: =\n",
            "WARNING:rpy2.rinterface_lib.callbacks:R[write to console]: =\n",
            "WARNING:rpy2.rinterface_lib.callbacks:R[write to console]: =\n",
            "WARNING:rpy2.rinterface_lib.callbacks:R[write to console]: =\n",
            "WARNING:rpy2.rinterface_lib.callbacks:R[write to console]: =\n",
            "WARNING:rpy2.rinterface_lib.callbacks:R[write to console]: =\n",
            "WARNING:rpy2.rinterface_lib.callbacks:R[write to console]: =\n",
            "WARNING:rpy2.rinterface_lib.callbacks:R[write to console]: =\n",
            "WARNING:rpy2.rinterface_lib.callbacks:R[write to console]: =\n",
            "WARNING:rpy2.rinterface_lib.callbacks:R[write to console]: =\n",
            "WARNING:rpy2.rinterface_lib.callbacks:R[write to console]: =\n",
            "WARNING:rpy2.rinterface_lib.callbacks:R[write to console]: =\n",
            "WARNING:rpy2.rinterface_lib.callbacks:R[write to console]: =\n",
            "WARNING:rpy2.rinterface_lib.callbacks:R[write to console]: =\n",
            "WARNING:rpy2.rinterface_lib.callbacks:R[write to console]: =\n",
            "WARNING:rpy2.rinterface_lib.callbacks:R[write to console]: =\n",
            "WARNING:rpy2.rinterface_lib.callbacks:R[write to console]: =\n",
            "WARNING:rpy2.rinterface_lib.callbacks:R[write to console]: =\n",
            "WARNING:rpy2.rinterface_lib.callbacks:R[write to console]: =\n",
            "WARNING:rpy2.rinterface_lib.callbacks:R[write to console]: =\n",
            "WARNING:rpy2.rinterface_lib.callbacks:R[write to console]: =\n",
            "WARNING:rpy2.rinterface_lib.callbacks:R[write to console]: =\n",
            "WARNING:rpy2.rinterface_lib.callbacks:R[write to console]: =\n",
            "WARNING:rpy2.rinterface_lib.callbacks:R[write to console]: =\n",
            "WARNING:rpy2.rinterface_lib.callbacks:R[write to console]: =\n",
            "WARNING:rpy2.rinterface_lib.callbacks:R[write to console]: =\n",
            "WARNING:rpy2.rinterface_lib.callbacks:R[write to console]: =\n",
            "WARNING:rpy2.rinterface_lib.callbacks:R[write to console]: =\n",
            "WARNING:rpy2.rinterface_lib.callbacks:R[write to console]: =\n",
            "WARNING:rpy2.rinterface_lib.callbacks:R[write to console]: =\n",
            "WARNING:rpy2.rinterface_lib.callbacks:R[write to console]: =\n",
            "WARNING:rpy2.rinterface_lib.callbacks:R[write to console]: =\n",
            "WARNING:rpy2.rinterface_lib.callbacks:R[write to console]: =\n",
            "WARNING:rpy2.rinterface_lib.callbacks:R[write to console]: =\n",
            "WARNING:rpy2.rinterface_lib.callbacks:R[write to console]: =\n",
            "WARNING:rpy2.rinterface_lib.callbacks:R[write to console]: =\n",
            "WARNING:rpy2.rinterface_lib.callbacks:R[write to console]: =\n",
            "WARNING:rpy2.rinterface_lib.callbacks:R[write to console]: =\n",
            "WARNING:rpy2.rinterface_lib.callbacks:R[write to console]: =\n",
            "WARNING:rpy2.rinterface_lib.callbacks:R[write to console]: =\n",
            "WARNING:rpy2.rinterface_lib.callbacks:R[write to console]: =\n",
            "WARNING:rpy2.rinterface_lib.callbacks:R[write to console]: =\n",
            "WARNING:rpy2.rinterface_lib.callbacks:R[write to console]: \n",
            "\n",
            "WARNING:rpy2.rinterface_lib.callbacks:R[write to console]: downloaded 842 KB\n",
            "\n",
            "\n",
            "WARNING:rpy2.rinterface_lib.callbacks:R[write to console]: \n",
            "\n",
            "WARNING:rpy2.rinterface_lib.callbacks:R[write to console]: \n",
            "WARNING:rpy2.rinterface_lib.callbacks:R[write to console]: The downloaded source packages are in\n",
            "\t‘/tmp/RtmpwOBTjE/downloaded_packages’\n",
            "WARNING:rpy2.rinterface_lib.callbacks:R[write to console]: \n",
            "WARNING:rpy2.rinterface_lib.callbacks:R[write to console]: \n",
            "\n",
            "WARNING:rpy2.rinterface_lib.callbacks:R[write to console]: Installing package into ‘/usr/local/lib/R/site-library’\n",
            "(as ‘lib’ is unspecified)\n",
            "\n",
            "WARNING:rpy2.rinterface_lib.callbacks:R[write to console]: trying URL 'https://cran.rstudio.com/src/contrib/lubridate_1.9.3.tar.gz'\n",
            "\n",
            "WARNING:rpy2.rinterface_lib.callbacks:R[write to console]: Content type 'application/x-gzip'\n",
            "WARNING:rpy2.rinterface_lib.callbacks:R[write to console]:  length 428043 bytes (418 KB)\n",
            "\n",
            "WARNING:rpy2.rinterface_lib.callbacks:R[write to console]: =\n",
            "WARNING:rpy2.rinterface_lib.callbacks:R[write to console]: =\n",
            "WARNING:rpy2.rinterface_lib.callbacks:R[write to console]: =\n",
            "WARNING:rpy2.rinterface_lib.callbacks:R[write to console]: =\n",
            "WARNING:rpy2.rinterface_lib.callbacks:R[write to console]: =\n",
            "WARNING:rpy2.rinterface_lib.callbacks:R[write to console]: =\n",
            "WARNING:rpy2.rinterface_lib.callbacks:R[write to console]: =\n",
            "WARNING:rpy2.rinterface_lib.callbacks:R[write to console]: =\n",
            "WARNING:rpy2.rinterface_lib.callbacks:R[write to console]: =\n",
            "WARNING:rpy2.rinterface_lib.callbacks:R[write to console]: =\n",
            "WARNING:rpy2.rinterface_lib.callbacks:R[write to console]: =\n",
            "WARNING:rpy2.rinterface_lib.callbacks:R[write to console]: =\n",
            "WARNING:rpy2.rinterface_lib.callbacks:R[write to console]: =\n",
            "WARNING:rpy2.rinterface_lib.callbacks:R[write to console]: =\n",
            "WARNING:rpy2.rinterface_lib.callbacks:R[write to console]: =\n",
            "WARNING:rpy2.rinterface_lib.callbacks:R[write to console]: =\n",
            "WARNING:rpy2.rinterface_lib.callbacks:R[write to console]: =\n",
            "WARNING:rpy2.rinterface_lib.callbacks:R[write to console]: =\n",
            "WARNING:rpy2.rinterface_lib.callbacks:R[write to console]: =\n",
            "WARNING:rpy2.rinterface_lib.callbacks:R[write to console]: =\n",
            "WARNING:rpy2.rinterface_lib.callbacks:R[write to console]: =\n",
            "WARNING:rpy2.rinterface_lib.callbacks:R[write to console]: =\n",
            "WARNING:rpy2.rinterface_lib.callbacks:R[write to console]: =\n",
            "WARNING:rpy2.rinterface_lib.callbacks:R[write to console]: =\n",
            "WARNING:rpy2.rinterface_lib.callbacks:R[write to console]: =\n",
            "WARNING:rpy2.rinterface_lib.callbacks:R[write to console]: =\n",
            "WARNING:rpy2.rinterface_lib.callbacks:R[write to console]: =\n",
            "WARNING:rpy2.rinterface_lib.callbacks:R[write to console]: =\n",
            "WARNING:rpy2.rinterface_lib.callbacks:R[write to console]: =\n",
            "WARNING:rpy2.rinterface_lib.callbacks:R[write to console]: =\n",
            "WARNING:rpy2.rinterface_lib.callbacks:R[write to console]: =\n",
            "WARNING:rpy2.rinterface_lib.callbacks:R[write to console]: =\n",
            "WARNING:rpy2.rinterface_lib.callbacks:R[write to console]: =\n",
            "WARNING:rpy2.rinterface_lib.callbacks:R[write to console]: =\n",
            "WARNING:rpy2.rinterface_lib.callbacks:R[write to console]: =\n",
            "WARNING:rpy2.rinterface_lib.callbacks:R[write to console]: =\n",
            "WARNING:rpy2.rinterface_lib.callbacks:R[write to console]: =\n",
            "WARNING:rpy2.rinterface_lib.callbacks:R[write to console]: =\n",
            "WARNING:rpy2.rinterface_lib.callbacks:R[write to console]: =\n",
            "WARNING:rpy2.rinterface_lib.callbacks:R[write to console]: =\n",
            "WARNING:rpy2.rinterface_lib.callbacks:R[write to console]: =\n",
            "WARNING:rpy2.rinterface_lib.callbacks:R[write to console]: =\n",
            "WARNING:rpy2.rinterface_lib.callbacks:R[write to console]: =\n",
            "WARNING:rpy2.rinterface_lib.callbacks:R[write to console]: =\n",
            "WARNING:rpy2.rinterface_lib.callbacks:R[write to console]: =\n",
            "WARNING:rpy2.rinterface_lib.callbacks:R[write to console]: =\n",
            "WARNING:rpy2.rinterface_lib.callbacks:R[write to console]: =\n",
            "WARNING:rpy2.rinterface_lib.callbacks:R[write to console]: =\n",
            "WARNING:rpy2.rinterface_lib.callbacks:R[write to console]: =\n",
            "WARNING:rpy2.rinterface_lib.callbacks:R[write to console]: =\n",
            "WARNING:rpy2.rinterface_lib.callbacks:R[write to console]: \n",
            "\n",
            "WARNING:rpy2.rinterface_lib.callbacks:R[write to console]: downloaded 418 KB\n",
            "\n",
            "\n",
            "WARNING:rpy2.rinterface_lib.callbacks:R[write to console]: \n",
            "\n",
            "WARNING:rpy2.rinterface_lib.callbacks:R[write to console]: \n",
            "WARNING:rpy2.rinterface_lib.callbacks:R[write to console]: The downloaded source packages are in\n",
            "\t‘/tmp/RtmpwOBTjE/downloaded_packages’\n",
            "WARNING:rpy2.rinterface_lib.callbacks:R[write to console]: \n",
            "WARNING:rpy2.rinterface_lib.callbacks:R[write to console]: \n",
            "\n"
          ]
        }
      ]
    },
    {
      "cell_type": "code",
      "source": [
        "%%R\n",
        "df <- df %>%\n",
        "  mutate(year = lubridate::year(Date))\n",
        "# Compute total runs scored each year by each striker\n",
        "total_run_each_year <- df %>%\n",
        "  group_by(year, Striker) %>%\n",
        "  summarise(total_runs = sum(runs_scored), .groups = 'drop')"
      ],
      "metadata": {
        "id": "JzQ7eBTyb7-k"
      },
      "execution_count": 37,
      "outputs": []
    },
    {
      "cell_type": "code",
      "source": [
        "%%R\n",
        "R2024= total_run_each_year %>%\n",
        "  filter(year == 2024)\n"
      ],
      "metadata": {
        "id": "zwYMvihrkLIJ"
      },
      "execution_count": 38,
      "outputs": []
    },
    {
      "cell_type": "markdown",
      "source": [
        "# Find the relationship between a player’s performance and the salary he gets in your data."
      ],
      "metadata": {
        "id": "NGAsIFuQhpgh"
      }
    },
    {
      "cell_type": "code",
      "source": [
        "%%R\n",
        "ipl_salary=salary %>%\n",
        "  mutate(Matched_Player = sapply(Player, function(x) match_names(x, total_run_each_year$Striker)))\n",
        "\n",
        "# Filter out rows where Matched_Player is NA (no match found)\n",
        "ipl_salary=salary[!is.na(salary$Matched_Player), ]\n",
        "\n",
        "# Merge the DataFrames on matched player names\n",
        "df_merged=merge(salary, total_run_each_year, by.x = \"Matched_Player\", by.y = \"Striker\")\n",
        "\n",
        "# Calculate the correlation between Salary and Runs\n",
        "correlation= cor(df_merged$Rs, df_merged$runs_scored, use = \"complete.obs\")\n",
        "\n",
        "# Print the correlation\n",
        "print(paste(\"Correlation between Salary and Runs:\", correlation))"
      ],
      "metadata": {
        "colab": {
          "base_uri": "https://localhost:8080/"
        },
        "id": "dDyklyNDhlkQ",
        "outputId": "4befaf07-be69-48b5-fa05-7a12cde46c4b",
        "collapsed": true
      },
      "execution_count": 47,
      "outputs": [
        {
          "output_type": "stream",
          "name": "stdout",
          "text": [
            "Error in `salary[!is.na(salary$Matched_Player), ]`:\n",
            "! Can't subset rows with `!is.na(salary$Matched_Player)`.\n",
            "✖ Logical subscript `!is.na(salary$Matched_Player)` must be size 1 or 166, not 0.\n",
            "Run `rlang::last_trace()` to see where the error occurred.\n"
          ]
        },
        {
          "output_type": "stream",
          "name": "stderr",
          "text": [
            "WARNING:rpy2.rinterface_lib.callbacks:R[write to console]: Warning message:\n",
            "\n",
            "WARNING:rpy2.rinterface_lib.callbacks:R[write to console]: Unknown or uninitialised column: `Matched_Player`. \n",
            "\n"
          ]
        },
        {
          "output_type": "stream",
          "name": "stdout",
          "text": [
            "\n",
            "Error in salary[!is.na(salary$Matched_Player), ] : \n",
            "✖ Logical subscript `!is.na(salary$Matched_Player)` must be size 1 or 166, not 0.\n"
          ]
        }
      ]
    }
  ]
}